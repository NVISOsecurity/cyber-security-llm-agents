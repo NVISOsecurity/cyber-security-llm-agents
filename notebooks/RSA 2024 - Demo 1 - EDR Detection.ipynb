{
 "cells": [
  {
   "cell_type": "code",
   "execution_count": 4,
   "id": "16bc5370-9c5e-457e-ae4f-e6a37fe158ca",
   "metadata": {},
   "outputs": [
    {
     "name": "stdout",
     "output_type": "stream",
     "text": [
      "/home/draman/repos/cyber-security-llm-agents\n"
     ]
    }
   ],
   "source": [
    "import os\n",
    "os.chdir('..')\n",
    "print(os.getcwd())"
   ]
  },
  {
   "cell_type": "code",
   "execution_count": 5,
   "id": "f969f46a-60a3-4e93-bfb3-e459728690a4",
   "metadata": {},
   "outputs": [],
   "source": [
    "import autogen.runtime_logging\n"
   ]
  },
  {
   "cell_type": "code",
   "execution_count": 6,
   "id": "66dc6c7f-e239-40cc-b49a-be0a07c819f4",
   "metadata": {},
   "outputs": [],
   "source": [
    "from readline import clear_history\n",
    "import autogen.runtime_logging\n",
    "from agents import text_agents, caldera_agents\n",
    "from utils.logs import print_usage_statistics\n",
    "import autogen\n",
    "import sys\n",
    "import actions.caldera_actions\n",
    "from agents.text_agents import (\n",
    "    task_coordinator_agent,\n",
    ")\n",
    "from utils.shared_config import clean_working_directory\n",
    "import actions.caldera_actions"
   ]
  },
  {
   "cell_type": "code",
   "execution_count": null,
   "id": "7a30ff98-5e6a-42c7-ab6d-578a953fc120",
   "metadata": {},
   "outputs": [],
   "source": []
  }
 ],
 "metadata": {
  "kernelspec": {
   "display_name": "Python 3 (ipykernel)",
   "language": "python",
   "name": "python3"
  },
  "language_info": {
   "codemirror_mode": {
    "name": "ipython",
    "version": 3
   },
   "file_extension": ".py",
   "mimetype": "text/x-python",
   "name": "python",
   "nbconvert_exporter": "python",
   "pygments_lexer": "ipython3",
   "version": "3.10.12"
  }
 },
 "nbformat": 4,
 "nbformat_minor": 5
}
